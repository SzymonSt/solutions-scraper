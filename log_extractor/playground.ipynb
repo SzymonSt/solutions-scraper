{
 "cells": [
  {
   "cell_type": "code",
   "execution_count": 7,
   "metadata": {},
   "outputs": [
    {
     "name": "stdout",
     "output_type": "stream",
     "text": [
      "Processing so__stackoverflow-posts-00000-of-00058.parquet\n",
      "Processing so__stackoverflow-posts-00001-of-00058.parquet\n",
      "Processing so__stackoverflow-posts-00002-of-00058.parquet\n",
      "Processing so__stackoverflow-posts-00003-of-00058.parquet\n",
      "Processing so__stackoverflow-posts-00004-of-00058.parquet\n",
      "Processing so__stackoverflow-posts-00005-of-00058.parquet\n",
      "Processing so__stackoverflow-posts-00006-of-00058.parquet\n",
      "Processing so__stackoverflow-posts-00007-of-00058.parquet\n",
      "Processing so__stackoverflow-posts-00008-of-00058.parquet\n",
      "Processing so__stackoverflow-posts-00009-of-00058.parquet\n",
      "Processing so__stackoverflow-posts-00010-of-00058.parquet\n",
      "Processing so__stackoverflow-posts-00011-of-00058.parquet\n",
      "Processing so__stackoverflow-posts-00012-of-00058.parquet\n",
      "Processing so__stackoverflow-posts-00013-of-00058.parquet\n",
      "Processing so__stackoverflow-posts-00014-of-00058.parquet\n",
      "Processing so__stackoverflow-posts-00015-of-00058.parquet\n",
      "Processing so__stackoverflow-posts-00016-of-00058.parquet\n",
      "Processing so__stackoverflow-posts-00017-of-00058.parquet\n",
      "Processing so__stackoverflow-posts-00018-of-00058.parquet\n",
      "Processing so__stackoverflow-posts-00019-of-00058.parquet\n",
      "Processing so__stackoverflow-posts-00020-of-00058.parquet\n",
      "Processing so__stackoverflow-posts-00021-of-00058.parquet\n",
      "Processing so__stackoverflow-posts-00022-of-00058.parquet\n",
      "Processing so__stackoverflow-posts-00023-of-00058.parquet\n",
      "Processing so__stackoverflow-posts-00024-of-00058.parquet\n",
      "Processing so__stackoverflow-posts-00025-of-00058.parquet\n",
      "Processing so__stackoverflow-posts-00026-of-00058.parquet\n",
      "Processing so__stackoverflow-posts-00027-of-00058.parquet\n",
      "Processing so__stackoverflow-posts-00028-of-00058.parquet\n",
      "Processing so__stackoverflow-posts-00029-of-00058.parquet\n",
      "Processing so__stackoverflow-posts-00030-of-00058.parquet\n",
      "Processing so__stackoverflow-posts-00031-of-00058.parquet\n",
      "Processing so__stackoverflow-posts-00032-of-00058.parquet\n"
     ]
    }
   ],
   "source": [
    "import os\n",
    "import json\n",
    "import pandas as pd\n",
    "\n",
    "files = os.listdir(\"./extracted_logs\")\n",
    "prefix = \"so_\"\n",
    "files = [f for f in files if f.startswith(prefix)]\n",
    "file_heads = []\n",
    "\n",
    "for f in files:\n",
    "    print(f\"Processing {f}\")\n",
    "    df = pd.read_parquet(f\"./extracted_logs/{f}\")\n",
    "    file_heads.extend(df.head().to_dict(orient=\"records\"))\n",
    "    \n",
    "with open(f\"extracted_logs_head_sample_{prefix}latest.json\", \"w\") as f:\n",
    "    json.dump(file_heads, f, indent=4)\n"
   ]
  }
 ],
 "metadata": {
  "kernelspec": {
   "display_name": "Python 3",
   "language": "python",
   "name": "python3"
  },
  "language_info": {
   "codemirror_mode": {
    "name": "ipython",
    "version": 3
   },
   "file_extension": ".py",
   "mimetype": "text/x-python",
   "name": "python",
   "nbconvert_exporter": "python",
   "pygments_lexer": "ipython3",
   "version": "3.9.1"
  }
 },
 "nbformat": 4,
 "nbformat_minor": 2
}
