{
 "cells": [
  {
   "cell_type": "code",
   "execution_count": null,
   "metadata": {},
   "outputs": [],
   "source": [
    "import os\n",
    "import pandas as pd\n",
    "\n",
    "\n",
    "issues_dataset_path = \"D:\\Contributing\\issue-analysis-eval-logs\\data\"\n",
    "files = os.listdir(issues_dataset_path)\n",
    "prefix = \"so_\"\n",
    "files = [f for f in files if f.startswith(prefix)]"
   ]
  }
 ],
 "metadata": {
  "language_info": {
   "name": "python"
  }
 },
 "nbformat": 4,
 "nbformat_minor": 2
}
